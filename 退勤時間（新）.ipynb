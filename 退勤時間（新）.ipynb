{
 "cells": [
  {
   "cell_type": "code",
   "execution_count": 7,
   "metadata": {},
   "outputs": [],
   "source": [
    "import pandas as pd\n",
    "from datetime import datetime\n",
    "import gspread\n",
    "from oauth2client.service_account import ServiceAccountCredentials\n",
    "\n",
    "def auth():\n",
    "    SP_CREDENTIAL_FILE = 'secret.json'\n",
    "    SP_SCOPE = [\n",
    "        'https://spreadsheets.google.com/feeds',\n",
    "        'https://www.googleapis.com/auth/drive'\n",
    "    ]\n",
    "\n",
    "    SP_SHEET_KEY = '1gyUDuEZnmBi8kEzyUHCzMrEEj-ZlJAjDGpPOiM47FRQ'\n",
    "    SP_SHEET = 'timesleet'\n",
    "\n",
    "    credentials = ServiceAccountCredentials.from_json_keyfile_name(SP_CREDENTIAL_FILE, SP_SCOPE)\n",
    "    gc = gspread.authorize(credentials)\n",
    "\n",
    "    worksheet = gc.open_by_key(SP_SHEET_KEY).worksheet(SP_SHEET)\n",
    "    return worksheet\n",
    "\n",
    "# 出勤\n",
    "def punch_in():\n",
    "    worksheet = auth()\n",
    "    df = pd.DataFrame(worksheet.get_all_records())\n",
    "\n",
    "    timestamp = datetime.now()\n",
    "    date = timestamp.strftime('%Y/%m/%d')\n",
    "    punch_in = timestamp.strftime('%H:%M')\n",
    "\n",
    "    df = df.append({'日付': date, '出勤時間': punch_in, '退勤時間': '00:00'}, ignore_index=True)\n",
    "    worksheet.update([df.columns.values.tolist()] + df.values.tolist())\n",
    "    print('出勤登録が完了しました!')\n",
    "\n",
    "# 退勤\n",
    "def punch_out():\n",
    "    worksheet = auth()\n",
    "    df = pd.DataFrame(worksheet.get_all_records())\n",
    "\n",
    "    timestamp = datetime.now()\n",
    "    punch_out = timestamp.strftime('%H:%M')\n",
    "\n",
    "    df.iloc[-1, 2] = punch_out\n",
    "    worksheet.update([df.columns.values.tolist()] + df.values.tolist())\n",
    "    print('退勤登録が完了しました!')"
   ]
  },
  {
   "cell_type": "code",
   "execution_count": 8,
   "metadata": {},
   "outputs": [
    {
     "name": "stdout",
     "output_type": "stream",
     "text": [
      "出勤登録が完了しました!\n"
     ]
    }
   ],
   "source": [
    "punch_in()"
   ]
  },
  {
   "cell_type": "code",
   "execution_count": 9,
   "metadata": {},
   "outputs": [
    {
     "name": "stdout",
     "output_type": "stream",
     "text": [
      "退勤登録が完了しました!\n"
     ]
    }
   ],
   "source": [
    "punch_out()"
   ]
  },
  {
   "cell_type": "code",
   "execution_count": 10,
   "metadata": {},
   "outputs": [],
   "source": [
    "from flask import Flask, request, abort\n",
    "\n",
    "from linebot import (\n",
    "    LineBotApi, WebhookHandler\n",
    ")\n",
    "from linebot.exceptions import (\n",
    "    InvalidSignatureError\n",
    ")\n",
    "from linebot.models import (\n",
    "    MessageEvent, TextMessage, TextSendMessage,\n",
    ")"
   ]
  },
  {
   "cell_type": "code",
   "execution_count": null,
   "metadata": {},
   "outputs": [
    {
     "name": "stdout",
     "output_type": "stream",
     "text": [
      " * Serving Flask app \"__main__\" (lazy loading)\n",
      " * Environment: production\n",
      "   WARNING: This is a development server. Do not use it in a production deployment.\n",
      "   Use a production WSGI server instead.\n",
      " * Debug mode: off\n"
     ]
    },
    {
     "name": "stderr",
     "output_type": "stream",
     "text": [
      " * Running on http://127.0.0.1:5000/ (Press CTRL+C to quit)\n"
     ]
    }
   ],
   "source": [
    "app = Flask(__name__)\n",
    "\n",
    "YOUR_CHANNEL_ACCESS_TOKEN = 'Kqfp8pS6PwIwsf5H2uxHGx2thkkkoQfomF1KKSodbptecS3DNQJ5Hiq9A1w1ZQStQZbE6eElttqqjhIPCdiuNUGoeLf2v4Gf25qhXSqcxNx9VeTzGe/bFwqdzMZxJDtSGSkAJz+JCUVFvnPIvs7s0AdB04t89/1O/w1cDnyilFU='\n",
    "YOUR_CHANNEL_SECRET = '9dc532dcffbb965de17cf5ef2f9e8bf1'\n",
    "\n",
    "line_bot_api = LineBotApi(YOUR_CHANNEL_ACCESS_TOKEN)\n",
    "handler = WebhookHandler(YOUR_CHANNEL_SECRET)\n",
    "\n",
    "@app.route(\"/\")\n",
    "def hello_world():\n",
    "    return \"HIKAKIN大ちゅき！\"\n",
    "\n",
    "@app.route(\"/callback\", methods=['POST'])\n",
    "def callback():\n",
    "    # get X-Line-Signature header value\n",
    "    signature = request.headers['X-Line-Signature']\n",
    "\n",
    "    # get request body as text\n",
    "    body = request.get_data(as_text=True)\n",
    "    app.logger.info(\"Request body: \" + body)\n",
    "\n",
    "    # handle webhook body\n",
    "    try:\n",
    "        handler.handle(body, signature)\n",
    "    except InvalidSignatureError:\n",
    "        print(\"Invalid signature. Please check your channel access token/channel secret.\")\n",
    "        abort(400)\n",
    "\n",
    "    return 'OK'\n",
    "\n",
    "@handler.add(MessageEvent, message=TextMessage)\n",
    "def handle_message(event):\n",
    "    line_bot_api.reply_message(\n",
    "        event.reply_token,\n",
    "        TextSendMessage(text=event.message.text))\n",
    "\n",
    "if __name__ == \"__main__\":\n",
    "    app.run()"
   ]
  },
  {
   "cell_type": "code",
   "execution_count": null,
   "metadata": {},
   "outputs": [],
   "source": []
  }
 ],
 "metadata": {
  "kernelspec": {
   "display_name": "Python 3",
   "language": "python",
   "name": "python3"
  },
  "language_info": {
   "codemirror_mode": {
    "name": "ipython",
    "version": 3
   },
   "file_extension": ".py",
   "mimetype": "text/x-python",
   "name": "python",
   "nbconvert_exporter": "python",
   "pygments_lexer": "ipython3",
   "version": "3.8.5"
  }
 },
 "nbformat": 4,
 "nbformat_minor": 4
}
