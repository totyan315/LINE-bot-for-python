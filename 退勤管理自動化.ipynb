{
 "cells": [
  {
   "cell_type": "code",
   "execution_count": 1,
   "metadata": {},
   "outputs": [
    {
     "name": "stdout",
     "output_type": "stream",
     "text": [
      "Requirement already satisfied: flask in c:\\users\\katom\\anaconda3\\lib\\site-packages (1.1.2)\n",
      "Requirement already satisfied: itsdangerous>=0.24 in c:\\users\\katom\\anaconda3\\lib\\site-packages (from flask) (1.1.0)\n",
      "Requirement already satisfied: Werkzeug>=0.15 in c:\\users\\katom\\anaconda3\\lib\\site-packages (from flask) (1.0.1)\n",
      "Requirement already satisfied: Jinja2>=2.10.1 in c:\\users\\katom\\anaconda3\\lib\\site-packages (from flask) (2.11.2)\n",
      "Requirement already satisfied: click>=5.1 in c:\\users\\katom\\anaconda3\\lib\\site-packages (from flask) (7.1.2)\n",
      "Requirement already satisfied: MarkupSafe>=0.23 in c:\\users\\katom\\anaconda3\\lib\\site-packages (from Jinja2>=2.10.1->flask) (1.1.1)\n",
      "Collecting line-bot-sdk\n",
      "  Downloading line_bot_sdk-1.19.0-py2.py3-none-any.whl (68 kB)\n",
      "Requirement already satisfied: future in c:\\users\\katom\\anaconda3\\lib\\site-packages (from line-bot-sdk) (0.18.2)\n",
      "Requirement already satisfied: requests>=2.0 in c:\\users\\katom\\anaconda3\\lib\\site-packages (from line-bot-sdk) (2.24.0)\n",
      "Requirement already satisfied: chardet<4,>=3.0.2 in c:\\users\\katom\\anaconda3\\lib\\site-packages (from requests>=2.0->line-bot-sdk) (3.0.4)\n",
      "Requirement already satisfied: certifi>=2017.4.17 in c:\\users\\katom\\anaconda3\\lib\\site-packages (from requests>=2.0->line-bot-sdk) (2020.6.20)\n",
      "Requirement already satisfied: urllib3!=1.25.0,!=1.25.1,<1.26,>=1.21.1 in c:\\users\\katom\\anaconda3\\lib\\site-packages (from requests>=2.0->line-bot-sdk) (1.25.11)\n",
      "Requirement already satisfied: idna<3,>=2.5 in c:\\users\\katom\\anaconda3\\lib\\site-packages (from requests>=2.0->line-bot-sdk) (2.10)\n",
      "Installing collected packages: line-bot-sdk\n",
      "Successfully installed line-bot-sdk-1.19.0\n"
     ]
    }
   ],
   "source": [
    "!pip3 install flask\n",
    "!pip3 install line-bot-sdk"
   ]
  },
  {
   "cell_type": "code",
   "execution_count": 2,
   "metadata": {},
   "outputs": [],
   "source": [
    "from flask import Flask, request, abort\n",
    "\n",
    "from linebot import (\n",
    "    LineBotApi, WebhookHandler\n",
    ")\n",
    "from linebot.exceptions import (\n",
    "    InvalidSignatureError\n",
    ")\n",
    "from linebot.models import (\n",
    "    MessageEvent, TextMessage, TextSendMessage,\n",
    ")"
   ]
  },
  {
   "cell_type": "code",
   "execution_count": 3,
   "metadata": {},
   "outputs": [
    {
     "name": "stdout",
     "output_type": "stream",
     "text": [
      " * Serving Flask app \"__main__\" (lazy loading)\n",
      " * Environment: production\n",
      "   WARNING: This is a development server. Do not use it in a production deployment.\n",
      "   Use a production WSGI server instead.\n",
      " * Debug mode: off\n"
     ]
    },
    {
     "name": "stderr",
     "output_type": "stream",
     "text": [
      " * Running on http://127.0.0.1:5000/ (Press CTRL+C to quit)\n",
      "127.0.0.1 - - [14/May/2021 21:21:19] \"\u001b[37mGET / HTTP/1.1\u001b[0m\" 200 -\n",
      "127.0.0.1 - - [14/May/2021 21:21:19] \"\u001b[33mGET /favicon.ico HTTP/1.1\u001b[0m\" 404 -\n",
      "127.0.0.1 - - [14/May/2021 21:25:26] \"\u001b[37mGET / HTTP/1.1\u001b[0m\" 200 -\n"
     ]
    }
   ],
   "source": [
    "app = Flask(__name__)\n",
    "\n",
    "YOUR_CHANNEL_ACCESS_TOKEN = '9dc532dcffbb965de17cf5ef2f9e8bf1'\n",
    "YOUR_CHANNEL_SECRET = 'Kqfp8pS6PwIwsf5H2uxHGx2thkkkoQfomF1KKSodbptecS3DNQJ5Hiq9A1w1ZQStQZbE6eElttqqjhIPCdiuNUGoeLf2v4Gf25qhXSqcxNx9VeTzGe/bFwqdzMZxJDtSGSkAJz+JCUVFvnPIvs7s0AdB04t89/1O/w1cDnyilFU='\n",
    "\n",
    "YOUR_CHANNEL_ACCESS_TOKEN = YOUR_CHANNEL_ACCESS_TOKEN\n",
    "YOUR_CHANNEL_SECRET = YOUR_CHANNEL_SECRET\n",
    "\n",
    "line_bot_api = LineBotApi(YOUR_CHANNEL_ACCESS_TOKEN)\n",
    "handler = WebhookHandler(YOUR_CHANNEL_SECRET)\n",
    "\n",
    "\n",
    "@app.route(\"/\")\n",
    "def hello_world():\n",
    "    return \"hello world\"\n",
    "\n",
    "@app.route(\"/callback\", methods=['POST'])\n",
    "def callback():\n",
    "    # get X-Line-Signature header value\n",
    "    signature = request.headers['X-Line-Signature']\n",
    "\n",
    "    # get request body as text\n",
    "    body = request.get_data(as_text=True)\n",
    "    app.logger.info(\"Request body: \" + body)\n",
    "\n",
    "    # handle webhook body\n",
    "    try:\n",
    "        handler.handle(body, signature)\n",
    "    except InvalidSignatureError:\n",
    "        print(\"Invalid signature. Please check your channel access token/channel secret.\")\n",
    "        abort(400)\n",
    "\n",
    "    return 'OK'\n",
    "\n",
    "@handler.add(MessageEvent, message=TextMessage)\n",
    "def handle_message(event):\n",
    "    line_bot_api.reply_message(\n",
    "        event.reply_token,\n",
    "        TextSendMessage(text=event.message.text))\n",
    "\n",
    "if __name__ == \"__main__\":\n",
    "    app.run()"
   ]
  },
  {
   "cell_type": "code",
   "execution_count": null,
   "metadata": {},
   "outputs": [],
   "source": []
  }
 ],
 "metadata": {
  "kernelspec": {
   "display_name": "Python 3",
   "language": "python",
   "name": "python3"
  },
  "language_info": {
   "codemirror_mode": {
    "name": "ipython",
    "version": 3
   },
   "file_extension": ".py",
   "mimetype": "text/x-python",
   "name": "python",
   "nbconvert_exporter": "python",
   "pygments_lexer": "ipython3",
   "version": "3.8.5"
  }
 },
 "nbformat": 4,
 "nbformat_minor": 4
}
